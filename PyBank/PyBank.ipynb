{
 "cells": [
  {
   "cell_type": "code",
   "execution_count": 1,
   "id": "6bef870c",
   "metadata": {},
   "outputs": [],
   "source": [
    "## In this Challenge, you are tasked with creating a Python script to analyze the financial records of your company. \n",
    "##  You will be given a financial dataset called budget_data.csv. \n",
    "##  The dataset is composed of two columns: \"Date\" and \"Profit/Losses\".\n",
    "\n",
    "import os\n",
    "import csv\n",
    "\n",
    "csvpath = os.path.join('..', 'PyBank', 'resource', 'budget_data.csv')"
   ]
  },
  {
   "cell_type": "code",
   "execution_count": 2,
   "id": "82503bee",
   "metadata": {},
   "outputs": [],
   "source": [
    "# Lists to store data\n",
    "months = []\n",
    "profit_loss_changes = []\n",
    "\n",
    "count_months = 0\n",
    "net_profit_loss = 0\n",
    "previous_month_profit_loss = 0\n",
    "current_month_profit_loss = 0\n",
    "profit_loss_change = 0"
   ]
  },
  {
   "cell_type": "code",
   "execution_count": 3,
   "id": "d2009094",
   "metadata": {},
   "outputs": [],
   "source": [
    "# Open and read csv\n",
    "with open(csvpath) as csvfile:\n",
    "    csv_reader = csv.reader(csvfile, delimiter=\",\")\n",
    "    csv_header = next(csvfile)\n",
    "          \n",
    "    # Read through each row of data after the header\n",
    "    for row in csv_reader:\n",
    "\n",
    "        # Count of months\n",
    "        count_months += 1\n",
    "\n",
    "        # Net total amount of \"Profit/Losses\" over the entire period\n",
    "        current_month_profit_loss = int(row[1])\n",
    "        net_profit_loss += current_month_profit_loss\n",
    "\n",
    "        if (count_months == 1):\n",
    "            # Make the value of previous month to be equal to current month\n",
    "            previous_month_profit_loss = current_month_profit_loss\n",
    "\n",
    "        else:\n",
    "\n",
    "            # The changes in \"Profit/Losses\" over the entire period\n",
    "            profit_loss_change = current_month_profit_loss - previous_month_profit_loss\n",
    "\n",
    "            # Append each month to the months[]\n",
    "            months.append(row[0])\n",
    "\n",
    "            # Append each profit_loss_change to the profit_loss_changes[]\n",
    "            profit_loss_changes.append(profit_loss_change)\n",
    "\n",
    "            # Make the current_month_loss to be previous_month_profit_loss\n",
    "            previous_month_profit_loss = current_month_profit_loss\n",
    "\n",
    "    #sum and average of the changes in \"Profit/Losses\" over the entire period\n",
    "    sum_profit_loss = sum(profit_loss_changes)\n",
    "    average_profit_loss = round(sum_profit_loss/(count_months - 1), 2)\n",
    "\n",
    "    # greatest increase and greatest decrease in \"Profit/Losses\" over the entire period\n",
    "    greatest_change = max(profit_loss_changes)\n",
    "    lowest_change = min(profit_loss_changes)\n",
    "\n",
    "    # The greatest increase in profits (date and amount) over the entire period\n",
    "    greatest_month_index = profit_loss_changes.index(greatest_change)\n",
    "    lowest_month_index = profit_loss_changes.index(lowest_change)\n",
    "\n",
    "    # Assign best and worst date\n",
    "    best_date = months[greatest_month_index]\n",
    "    worst_date = months[lowest_month_index]"
   ]
  },
  {
   "cell_type": "code",
   "execution_count": 4,
   "id": "0a1f7a64",
   "metadata": {},
   "outputs": [
    {
     "name": "stdout",
     "output_type": "stream",
     "text": [
      "Financial Analysis\n",
      "----------------------------\n",
      "Total Months:  86\n",
      "Total:  $ 22564198\n",
      "Average Change:  $ -8311.11\n",
      "Greatest Increase in Profits:  Aug-16 ($ 1862002)\n",
      "Greatest Decrease in Losses:  Feb-14 ($ -1825558)\n"
     ]
    }
   ],
   "source": [
    "# print the analysis to the terminal\n",
    "print(\"Financial Analysis\")\n",
    "print(\"----------------------------\")\n",
    "print(f\"Total Months:  {count_months}\")\n",
    "print(f\"Total:  $ {net_profit_loss}\")\n",
    "print(f\"Average Change:  $ {average_profit_loss}\")\n",
    "print(f\"Greatest Increase in Profits:  {best_date} ($ {greatest_change})\")\n",
    "print(f\"Greatest Decrease in Losses:  {worst_date} ($ {lowest_change})\")"
   ]
  },
  {
   "cell_type": "code",
   "execution_count": 7,
   "id": "7c1e4652",
   "metadata": {},
   "outputs": [],
   "source": [
    "# export a text file with the results\n",
    "\n",
    "# Specify the file to write to\n",
    "output_file = os.path.join('..', 'PyBank', \"analysis\", \"budget_data.txt\")\n",
    "\n",
    "# Open the file using \"write\" mode. Specify the variable to hold the contents\n",
    "with open(output_file, 'w') as outfile:\n",
    "    outfile.write(\"Financial Analysis\\n\")\n",
    "    outfile.write(\"----------------------------\\n\")\n",
    "    outfile.write(f\"Total Months:  {count_months}\\n\")\n",
    "    outfile.write(f\"Total:  $ {net_profit_loss}\\n\")\n",
    "    outfile.write(f\"Average Change:  $ {average_profit_loss}\\n\")\n",
    "    outfile.write(f\"Greatest Increase in Profits:  {best_date} ($ {greatest_change})\\n\")\n",
    "    outfile.write(f\"Greatest Decrease in Losses:  {worst_date} ($ {lowest_change})\\n\")"
   ]
  },
  {
   "cell_type": "code",
   "execution_count": null,
   "id": "46c3864c",
   "metadata": {},
   "outputs": [],
   "source": []
  }
 ],
 "metadata": {
  "kernelspec": {
   "display_name": "Python 3 (ipykernel)",
   "language": "python",
   "name": "python3"
  },
  "language_info": {
   "codemirror_mode": {
    "name": "ipython",
    "version": 3
   },
   "file_extension": ".py",
   "mimetype": "text/x-python",
   "name": "python",
   "nbconvert_exporter": "python",
   "pygments_lexer": "ipython3",
   "version": "3.9.13"
  }
 },
 "nbformat": 4,
 "nbformat_minor": 5
}
