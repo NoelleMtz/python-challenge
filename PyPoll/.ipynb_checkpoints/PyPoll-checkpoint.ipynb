{
 "cells": [
  {
   "cell_type": "code",
   "execution_count": 7,
   "id": "3062cbca",
   "metadata": {},
   "outputs": [],
   "source": [
    "## In this Challenge, you are tasked with helping a small, rural town modernize its vote-counting process.\n",
    "# You will be given a set of poll data called election_data.csv. \n",
    "# The dataset is composed of three columns: \"Voter ID\", \"County\", and \"Candidate\". \n",
    "\n",
    "import os\n",
    "import csv\n",
    "\n",
    "election_data = os.path.join('..', 'PyPoll', 'resource', 'election_data.csv')"
   ]
  },
  {
   "cell_type": "code",
   "execution_count": 14,
   "id": "c9014b80",
   "metadata": {},
   "outputs": [],
   "source": [
    "# LISTS TO STORE DATA\n",
    "\n",
    "# Votes\n",
    "total_votes = 0\n",
    "\n",
    "# A complete list of candidates who received votes \n",
    "candidate_options = []\n",
    "\n",
    "# The percentage of votes each candidate won \n",
    "candidate_vote_percentages = []\n",
    "\n",
    "# The total number of votes each candidate won\n",
    "total_votes_candidates = {}\n",
    "\n",
    "# The winner of the election based on popular vot\n",
    "winning_candidate = \"\"\n",
    "winning_count = 0\n",
    "winning_percentage = 0"
   ]
  },
  {
   "cell_type": "code",
   "execution_count": 15,
   "id": "33a9869e",
   "metadata": {},
   "outputs": [],
   "source": [
    "# Open and read csv\n",
    "with open(election_data) as csvfile:\n",
    "    csvreader = csv.reader(csvfile, delimiter = \",\")\n",
    "    csvheader = next(csvfile)\n",
    "    \n",
    "          \n",
    "     # Print each row in the CSV file.\n",
    "    for row in csvreader:\n",
    "        \n",
    "        # Add total votes\n",
    "        total_votes += 1\n",
    "\n",
    "        # Print the candidate name from each row.\n",
    "        candidate_name = row[2]\n",
    "\n",
    "        # If the candidate does not match any existing candidate...\n",
    "        if candidate_name not in candidate_options:\n",
    "            # Add to the list of candidates\n",
    "            candidate_options.append(candidate_name)\n",
    "            \n",
    "            # Candidate's vote count\n",
    "            total_votes_candidates[candidate_name] = 0\n",
    "\n",
    "        # Add a vote to that candidates's count\n",
    "        total_votes_candidates[candidate_name] += 1"
   ]
  },
  {
   "cell_type": "code",
   "execution_count": 16,
   "id": "ecd3f32f",
   "metadata": {},
   "outputs": [],
   "source": [
    " # Set variable for output file\n",
    "output_file = os.path.join(\"analysis\", \"election_analysis.txt\")"
   ]
  },
  {
   "cell_type": "code",
   "execution_count": 22,
   "id": "54c9467f",
   "metadata": {},
   "outputs": [
    {
     "name": "stdout",
     "output_type": "stream",
     "text": [
      "Election Results\n",
      "-------------------------\n",
      "Total Votes: 369711\n",
      "-------------------------\n",
      "Charles Casper Stockham: 23.0% (85213)\n",
      "\n",
      "Diana DeGette: 73.8% (272892)\n",
      "\n",
      "Raymon Anthony Doane: 3.1% (11606)\n",
      "\n",
      "-------------------------\n",
      "Winner: Diana DeGette\n",
      "Winning Vote Count: 272892\n",
      "Winning Percentage: 73.8%\n",
      "-------------------------\n",
      "\n"
     ]
    }
   ],
   "source": [
    "#  Open the output file\n",
    "with open(output_file, \"w\") as txt_file:\n",
    "    # Print the final vote count to the terminal.\n",
    "    election_results = (\n",
    "        f\"Election Results\\n\"\n",
    "        f\"-------------------------\\n\"\n",
    "        f\"Total Votes: {total_votes:}\\n\"\n",
    "        f\"-------------------------\\n\"\n",
    "    )\n",
    "    print(election_results, end=\"\")\n",
    "    \n",
    "    # Save the final vote count to the text file.\n",
    "    txt_file.write(election_results)\n",
    "    \n",
    "    for candidate_name in total_votes_candidates:\n",
    "        # Retrieve vote count and percentage.\n",
    "        votes = total_votes_candidates[candidate_name]\n",
    "        candidate_vote_percentages = float(votes) / float(total_votes) * 100\n",
    "        candidate_results = f\"{candidate_name}: {candidate_vote_percentages:.1f}% ({votes:})\\n\"\n",
    "\n",
    "        # Print each candidate's voter count and percentage to the terminal.\n",
    "        print(candidate_results)\n",
    "        #  Save the candidate results to our text file.\n",
    "        txt_file.write(candidate_results)\n",
    "       \n",
    "    # Determine winning vote count, winning percentage, and winning candidate.\n",
    "        if (votes > winning_count) and (candidate_vote_percentages > winning_percentage):\n",
    "            winning_count = votes\n",
    "            winning_candidate = candidate_name\n",
    "            winning_percentage = candidate_vote_percentages\n",
    "            \n",
    "    # Print the winning candidate's results to the terminal.\n",
    "    winning_candidate_summary = (\n",
    "        f\"-------------------------\\n\"\n",
    "        f\"Winner: {winning_candidate}\\n\"\n",
    "        f\"Winning Vote Count: {winning_count:}\\n\"\n",
    "        f\"Winning Percentage: {winning_percentage:.1f}%\\n\"\n",
    "        f\"-------------------------\\n\"\n",
    "    )\n",
    "    print(winning_candidate_summary)\n",
    "    \n",
    "    # Save the winning candidate's results to the text file.\n",
    "    txt_file.write(winning_candidate_summary)\n"
   ]
  },
  {
   "cell_type": "code",
   "execution_count": null,
   "id": "3e2b0c7e",
   "metadata": {},
   "outputs": [],
   "source": []
  }
 ],
 "metadata": {
  "kernelspec": {
   "display_name": "Python 3 (ipykernel)",
   "language": "python",
   "name": "python3"
  },
  "language_info": {
   "codemirror_mode": {
    "name": "ipython",
    "version": 3
   },
   "file_extension": ".py",
   "mimetype": "text/x-python",
   "name": "python",
   "nbconvert_exporter": "python",
   "pygments_lexer": "ipython3",
   "version": "3.9.13"
  }
 },
 "nbformat": 4,
 "nbformat_minor": 5
}
